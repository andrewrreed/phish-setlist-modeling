{
 "cells": [
  {
   "cell_type": "markdown",
   "metadata": {},
   "source": [
    "# Training Custom Embeddings with Skip-Gram\n",
    "\n",
    "https://blog.cambridgespark.com/tutorial-build-your-own-embedding-and-use-it-in-a-neural-network-e9cde4a81296 "
   ]
  },
  {
   "cell_type": "code",
   "execution_count": 14,
   "metadata": {
    "scrolled": true
   },
   "outputs": [
    {
     "name": "stdout",
     "output_type": "stream",
     "text": [
      "The autoreload extension is already loaded. To reload it, use:\n",
      "  %reload_ext autoreload\n"
     ]
    }
   ],
   "source": [
    "%load_ext autoreload\n",
    "%autoreload 2\n",
    "\n",
    "import sys\n",
    "import os\n",
    "from gensim.models import Word2Vec\n",
    "import multiprocessing\n",
    "import numpy as np\n",
    "\n",
    "module_path = os.path.abspath(os.path.join('../'))\n",
    "if module_path not in sys.path:\n",
    "    sys.path.append(module_path)\n",
    "    \n",
    "import src"
   ]
  },
  {
   "cell_type": "markdown",
   "metadata": {},
   "source": [
    "## Load In Our Training Data"
   ]
  },
  {
   "cell_type": "code",
   "execution_count": 15,
   "metadata": {},
   "outputs": [
    {
     "data": {
      "text/plain": [
       "'/home/gpsnest/Documents/andrew/phish/phish-setlist-modeling/notebooks'"
      ]
     },
     "execution_count": 15,
     "metadata": {},
     "output_type": "execute_result"
    }
   ],
   "source": [
    "os.getcwd()"
   ]
  },
  {
   "cell_type": "code",
   "execution_count": 57,
   "metadata": {},
   "outputs": [],
   "source": [
    "X_train2 = src.util.load_pickle_object('../data/processed/mvp-setlist-modeling2/seqlen-150/X_train.pkl')\n",
    "X_test2 = src.util.load_pickle_object('../data/processed/mvp-setlist-modeling2/seqlen-150/X_test.pkl')\n",
    "\n",
    "idx_to_song2 = src.util.load_pickle_object('../data/processed/mvp-setlist-modeling2/seqlen-150/idx_to_song.pkl')\n"
   ]
  },
  {
   "cell_type": "code",
   "execution_count": 58,
   "metadata": {},
   "outputs": [
    {
     "ename": "NameError",
     "evalue": "name 'X_train' is not defined",
     "output_type": "error",
     "traceback": [
      "\u001b[0;31m---------------------------------------------------------------------------\u001b[0m",
      "\u001b[0;31mNameError\u001b[0m                                 Traceback (most recent call last)",
      "\u001b[0;32m<ipython-input-58-e26a36b2ff00>\u001b[0m in \u001b[0;36m<module>\u001b[0;34m\u001b[0m\n\u001b[0;32m----> 1\u001b[0;31m \u001b[0mlen\u001b[0m\u001b[0;34m(\u001b[0m\u001b[0mX_train\u001b[0m\u001b[0;34m)\u001b[0m \u001b[0;34m+\u001b[0m \u001b[0mlen\u001b[0m\u001b[0;34m(\u001b[0m\u001b[0mX_test\u001b[0m\u001b[0;34m)\u001b[0m\u001b[0;34m\u001b[0m\u001b[0;34m\u001b[0m\u001b[0m\n\u001b[0m",
      "\u001b[0;31mNameError\u001b[0m: name 'X_train' is not defined"
     ]
    }
   ],
   "source": [
    "len(X_train) + len(X_test)"
   ]
  },
  {
   "cell_type": "code",
   "execution_count": 59,
   "metadata": {},
   "outputs": [],
   "source": [
    "all_train2 = np.append(X_train2, X_test2, axis = 0)"
   ]
  },
  {
   "cell_type": "code",
   "execution_count": 139,
   "metadata": {},
   "outputs": [
    {
     "data": {
      "text/plain": [
       "35690"
      ]
     },
     "execution_count": 139,
     "metadata": {},
     "output_type": "execute_result"
    }
   ],
   "source": [
    "len(all_train2)"
   ]
  },
  {
   "cell_type": "code",
   "execution_count": 61,
   "metadata": {},
   "outputs": [],
   "source": [
    "all_train_formatted2 = [[idx_to_song2[idx] for idx in item] for item in all_train2]"
   ]
  },
  {
   "cell_type": "code",
   "execution_count": 62,
   "metadata": {},
   "outputs": [
    {
     "data": {
      "text/plain": [
       "35690"
      ]
     },
     "execution_count": 62,
     "metadata": {},
     "output_type": "execute_result"
    }
   ],
   "source": [
    "len(all_train_formatted2)"
   ]
  },
  {
   "cell_type": "code",
   "execution_count": 63,
   "metadata": {},
   "outputs": [
    {
     "ename": "NameError",
     "evalue": "name 'all_train_formatted' is not defined",
     "output_type": "error",
     "traceback": [
      "\u001b[0;31m---------------------------------------------------------------------------\u001b[0m",
      "\u001b[0;31mNameError\u001b[0m                                 Traceback (most recent call last)",
      "\u001b[0;32m<ipython-input-63-3dd81ad36abe>\u001b[0m in \u001b[0;36m<module>\u001b[0;34m\u001b[0m\n\u001b[0;32m----> 1\u001b[0;31m \u001b[0mall_train_formatted\u001b[0m\u001b[0;34m[\u001b[0m\u001b[0;36m0\u001b[0m\u001b[0;34m]\u001b[0m\u001b[0;34m\u001b[0m\u001b[0;34m\u001b[0m\u001b[0m\n\u001b[0m",
      "\u001b[0;31mNameError\u001b[0m: name 'all_train_formatted' is not defined"
     ]
    }
   ],
   "source": [
    "all_train_formatted[0]"
   ]
  },
  {
   "cell_type": "markdown",
   "metadata": {},
   "source": [
    "## Train Model "
   ]
  },
  {
   "cell_type": "code",
   "execution_count": 60,
   "metadata": {},
   "outputs": [],
   "source": [
    "EMB_DIM = 200\n",
    "\n",
    "w2v = Word2Vec(all_train_formatted2, size=EMB_DIM, window=20, min_count=1, negative=15, iter=100, workers=multiprocessing.cpu_count())"
   ]
  },
  {
   "cell_type": "markdown",
   "metadata": {},
   "source": [
    "## Inspect Model"
   ]
  },
  {
   "cell_type": "code",
   "execution_count": 84,
   "metadata": {},
   "outputs": [],
   "source": [
    "# get trained embeddings\n",
    "word_vectors = w2v.wv"
   ]
  },
  {
   "cell_type": "code",
   "execution_count": 67,
   "metadata": {},
   "outputs": [
    {
     "data": {
      "text/plain": [
       "[('<SET2>', 0.1981578916311264),\n",
       " ('Grind', 0.15376900136470795),\n",
       " ('<UNK>', 0.15321442484855652),\n",
       " ('Quinn the Eskimo', 0.14822342991828918),\n",
       " ('Run Like an Antelope', 0.1298259198665619),\n",
       " ('The Little Drummer Boy', 0.12376296520233154),\n",
       " ('Seven Below', 0.12074650824069977),\n",
       " ('The Maker', 0.12004673480987549),\n",
       " ('Monkey Man', 0.11844509840011597),\n",
       " ('Spooky Jam', 0.11623214185237885)]"
      ]
     },
     "execution_count": 67,
     "metadata": {},
     "output_type": "execute_result"
    }
   ],
   "source": [
    "word_vectors.similar_by_word('Tweezer Reprise')"
   ]
  },
  {
   "cell_type": "code",
   "execution_count": null,
   "metadata": {},
   "outputs": [],
   "source": []
  },
  {
   "cell_type": "code",
   "execution_count": 64,
   "metadata": {},
   "outputs": [],
   "source": [
    "EMB_DIM = 200\n",
    "\n",
    "w2v = Word2Vec(all_train_formatted2, size=EMB_DIM, window=10, min_count=1, negative=15, iter=100, workers=multiprocessing.cpu_count())\n",
    "word_vectors = w2v.wv"
   ]
  },
  {
   "cell_type": "code",
   "execution_count": 65,
   "metadata": {},
   "outputs": [
    {
     "data": {
      "text/plain": [
       "[('David Bowie', 0.5004667043685913),\n",
       " ('Turd on the Run', 0.2522338032722473),\n",
       " ('Ventilator Blues', 0.22704443335533142),\n",
       " ('Julius', 0.22342032194137573),\n",
       " ('Digital Delay Loop Jam', 0.22240693867206573),\n",
       " ('I Just Want To See His Face', 0.2195710986852646),\n",
       " ('Maze', 0.212742879986763),\n",
       " ('Happy', 0.20626837015151978),\n",
       " ('Split Open and Melt', 0.19282028079032898),\n",
       " ('Tweezer Reprise', 0.18962794542312622)]"
      ]
     },
     "execution_count": 65,
     "metadata": {},
     "output_type": "execute_result"
    }
   ],
   "source": [
    "word_vectors.similar_by_word('Run Like an Antelope')"
   ]
  },
  {
   "cell_type": "code",
   "execution_count": 71,
   "metadata": {},
   "outputs": [],
   "source": [
    "EMB_DIM = 200\n",
    "\n",
    "w2v2 = Word2Vec(all_train_formatted2, size=EMB_DIM, window=5, min_count=1, negative=15, iter=100, workers=multiprocessing.cpu_count())"
   ]
  },
  {
   "cell_type": "code",
   "execution_count": 116,
   "metadata": {},
   "outputs": [],
   "source": [
    "word_vectors2 = w2v2.wv"
   ]
  },
  {
   "cell_type": "code",
   "execution_count": 75,
   "metadata": {},
   "outputs": [
    {
     "data": {
      "text/plain": [
       "[('David Bowie', 0.4748042821884155),\n",
       " ('Tweezer', 0.29588180780410767),\n",
       " ('Split Open and Melt', 0.2817624807357788),\n",
       " ('Julius', 0.2528912425041199),\n",
       " ('Maze', 0.2490585893392563),\n",
       " (\"I'm Gonna Be (500 Miles)\", 0.20611174404621124),\n",
       " ('Sixteen Candles', 0.19756639003753662),\n",
       " ('Possum', 0.19410820305347443),\n",
       " ('Down with Disease', 0.186809241771698),\n",
       " ('<SET2>', 0.1851249635219574)]"
      ]
     },
     "execution_count": 75,
     "metadata": {},
     "output_type": "execute_result"
    }
   ],
   "source": [
    "word_vectors2.similar_by_word('Run Like an Antelope')"
   ]
  },
  {
   "cell_type": "code",
   "execution_count": null,
   "metadata": {},
   "outputs": [],
   "source": []
  },
  {
   "cell_type": "code",
   "execution_count": 48,
   "metadata": {},
   "outputs": [
    {
     "ename": "NameError",
     "evalue": "name 'all_train_formatted' is not defined",
     "output_type": "error",
     "traceback": [
      "\u001b[0;31m---------------------------------------------------------------------------\u001b[0m",
      "\u001b[0;31mNameError\u001b[0m                                 Traceback (most recent call last)",
      "\u001b[0;32m<ipython-input-48-61bc3484559a>\u001b[0m in \u001b[0;36m<module>\u001b[0;34m\u001b[0m\n\u001b[1;32m      1\u001b[0m \u001b[0mEMB_DIM\u001b[0m \u001b[0;34m=\u001b[0m \u001b[0;36m200\u001b[0m\u001b[0;34m\u001b[0m\u001b[0;34m\u001b[0m\u001b[0m\n\u001b[1;32m      2\u001b[0m \u001b[0;34m\u001b[0m\u001b[0m\n\u001b[0;32m----> 3\u001b[0;31m \u001b[0mw2v3\u001b[0m \u001b[0;34m=\u001b[0m \u001b[0mWord2Vec\u001b[0m\u001b[0;34m(\u001b[0m\u001b[0mall_train_formatted\u001b[0m\u001b[0;34m,\u001b[0m \u001b[0msize\u001b[0m\u001b[0;34m=\u001b[0m\u001b[0mEMB_DIM\u001b[0m\u001b[0;34m,\u001b[0m \u001b[0mwindow\u001b[0m\u001b[0;34m=\u001b[0m\u001b[0;36m20\u001b[0m\u001b[0;34m,\u001b[0m \u001b[0mmin_count\u001b[0m\u001b[0;34m=\u001b[0m\u001b[0;36m1\u001b[0m\u001b[0;34m,\u001b[0m \u001b[0mnegative\u001b[0m\u001b[0;34m=\u001b[0m\u001b[0;36m15\u001b[0m\u001b[0;34m,\u001b[0m \u001b[0miter\u001b[0m\u001b[0;34m=\u001b[0m\u001b[0;36m10\u001b[0m\u001b[0;34m,\u001b[0m \u001b[0mworkers\u001b[0m\u001b[0;34m=\u001b[0m\u001b[0mmultiprocessing\u001b[0m\u001b[0;34m.\u001b[0m\u001b[0mcpu_count\u001b[0m\u001b[0;34m(\u001b[0m\u001b[0;34m)\u001b[0m\u001b[0;34m)\u001b[0m\u001b[0;34m\u001b[0m\u001b[0;34m\u001b[0m\u001b[0m\n\u001b[0m",
      "\u001b[0;31mNameError\u001b[0m: name 'all_train_formatted' is not defined"
     ]
    }
   ],
   "source": [
    "EMB_DIM = 200\n",
    "\n",
    "w2v3 = Word2Vec(all_train_formatted, size=EMB_DIM, window=20, min_count=1, negative=15, iter=10, workers=multiprocessing.cpu_count())"
   ]
  },
  {
   "cell_type": "code",
   "execution_count": null,
   "metadata": {},
   "outputs": [],
   "source": [
    "word_vectors3 = w2v3.wv"
   ]
  },
  {
   "cell_type": "code",
   "execution_count": null,
   "metadata": {},
   "outputs": [],
   "source": [
    "word_vectors3.similar_by_word('Waste')"
   ]
  },
  {
   "cell_type": "code",
   "execution_count": 262,
   "metadata": {},
   "outputs": [
    {
     "data": {
      "text/plain": [
       "[('Uncle Pen', 0.29061153531074524),\n",
       " ('My Sweet One', 0.2869311571121216),\n",
       " ('Poor Heart', 0.26996660232543945),\n",
       " ('Mound', 0.23310574889183044),\n",
       " (\"It's Ice\", 0.22954155504703522),\n",
       " ('United We Stand', 0.21819312870502472),\n",
       " ('Glide', 0.2180168628692627),\n",
       " ('The Curtain', 0.21595054864883423),\n",
       " ('Esther', 0.21565523743629456),\n",
       " ('Dooley', 0.21448779106140137)]"
      ]
     },
     "execution_count": 262,
     "metadata": {},
     "output_type": "execute_result"
    }
   ],
   "source": [
    "word_vectors2.most_similar(positive=['Sparkle'], negative=['Dirt'])"
   ]
  },
  {
   "cell_type": "code",
   "execution_count": 76,
   "metadata": {},
   "outputs": [],
   "source": [
    "def get_preds(word):\n",
    "    print('Window Size 5:')\n",
    "    print(word_vectors2.similar_by_word(word))\n",
    "    print()\n",
    "    print('Window Size 10:')\n",
    "    print(word_vectors.similar_by_word(word))\n",
    "    print()\n",
    "#     print('Window Size 20:')\n",
    "#     print(word_vectors3.similar_by_word(word))\n",
    "<#     print()"
   ]
  },
  {
   "cell_type": "code",
   "execution_count": 135,
   "metadata": {},
   "outputs": [
    {
     "name": "stdout",
     "output_type": "stream",
     "text": [
      "Window Size 5:\n",
      "[('Piper', 0.3015768826007843), ('Twist', 0.29007261991500854), (\"No Men In No Man's Land\", 0.2844298481941223), ('Light', 0.2672475576400757), ('Also Sprach Zarathustra', 0.233444482088089), ('Wingsuit', 0.2258490025997162), ('Character Zero', 0.22413590550422668), ('Limb By Limb', 0.22272847592830658), ('Fuego', 0.21960406005382538), ('Free', 0.21485088765621185)]\n",
      "\n",
      "Window Size 10:\n",
      "[(\"No Men In No Man's Land\", 0.2536231577396393), ('Wingsuit', 0.25095584988594055), (\"What's the Use?\", 0.24419823288917542), ('Kill Devil Falls', 0.2283289134502411), ('The Dogs', 0.20210129022598267), ('Mellow Mood', 0.19357004761695862), ('Fuck Your Face', 0.19331717491149902), ('Soul Love', 0.1880451738834381), ('The Moma Dance', 0.1774958372116089), ('<SET3>', 0.17173495888710022)]\n",
      "\n"
     ]
    }
   ],
   "source": [
    "get_preds(\"Sand\")"
   ]
  },
  {
   "cell_type": "markdown",
   "metadata": {},
   "source": [
    "### Keepers"
   ]
  },
  {
   "cell_type": "code",
   "execution_count": 121,
   "metadata": {},
   "outputs": [],
   "source": [
    "import pandas as pd"
   ]
  },
  {
   "cell_type": "code",
   "execution_count": 123,
   "metadata": {},
   "outputs": [
    {
     "data": {
      "text/plain": [
       "'/home/gpsnest/Documents/andrew/phish/phish-setlist-modeling/notebooks'"
      ]
     },
     "execution_count": 123,
     "metadata": {},
     "output_type": "execute_result"
    }
   ],
   "source": [
    "os.getcwd()"
   ]
  },
  {
   "cell_type": "code",
   "execution_count": 137,
   "metadata": {},
   "outputs": [],
   "source": [
    "pd.DataFrame(word_vectors2.similar_by_word('Sand')).to_csv('../data/reporting/sand.csv')"
   ]
  },
  {
   "cell_type": "code",
   "execution_count": 138,
   "metadata": {},
   "outputs": [
    {
     "data": {
      "text/plain": [
       "[('David Bowie', 0.4748042821884155),\n",
       " ('Tweezer', 0.29588180780410767),\n",
       " ('Split Open and Melt', 0.2817624807357788),\n",
       " ('Julius', 0.2528912425041199),\n",
       " ('Maze', 0.2490585893392563),\n",
       " (\"I'm Gonna Be (500 Miles)\", 0.20611174404621124),\n",
       " ('Sixteen Candles', 0.19756639003753662),\n",
       " ('Possum', 0.19410820305347443),\n",
       " ('Down with Disease', 0.186809241771698),\n",
       " ('<SET2>', 0.1851249635219574)]"
      ]
     },
     "execution_count": 138,
     "metadata": {},
     "output_type": "execute_result"
    }
   ],
   "source": [
    "word_vectors2.similar_by_word('Run Like an Antelope')"
   ]
  },
  {
   "cell_type": "code",
   "execution_count": 107,
   "metadata": {},
   "outputs": [
    {
     "data": {
      "text/plain": [
       "[('When the Circus Comes', 0.2663854956626892),\n",
       " ('Dirt', 0.24075967073440552),\n",
       " ('Cities', 0.2035812884569168),\n",
       " ('The Inlaw Josie Wales', 0.20111027359962463),\n",
       " ('Ocelot', 0.20065829157829285),\n",
       " ('Kill Devil Falls', 0.20049455761909485),\n",
       " ('Horn', 0.19731560349464417),\n",
       " ('Theme From the Bottom', 0.19061687588691711),\n",
       " ('Bathtub Gin', 0.18274357914924622),\n",
       " ('Back on the Train', 0.18209892511367798)]"
      ]
     },
     "execution_count": 107,
     "metadata": {},
     "output_type": "execute_result"
    }
   ],
   "source": [
    "word_vectors2.similar_by_word('Roggae')"
   ]
  },
  {
   "cell_type": "code",
   "execution_count": 111,
   "metadata": {},
   "outputs": [
    {
     "data": {
      "text/plain": [
       "[('Twist', 0.25279688835144043),\n",
       " ('Driver', 0.24948111176490784),\n",
       " ('Drowned', 0.24944530427455902),\n",
       " ('Julius', 0.23943711817264557),\n",
       " ('Simple', 0.22964410483837128),\n",
       " ('Rock and Roll', 0.22823897004127502),\n",
       " ('Punch You in the Eye', 0.2163449227809906),\n",
       " ('46 Days', 0.21066105365753174),\n",
       " ('Piper', 0.20736977458000183),\n",
       " ('Crosseyed and Painless', 0.2049994319677353)]"
      ]
     },
     "execution_count": 111,
     "metadata": {},
     "output_type": "execute_result"
    }
   ],
   "source": [
    "word_vectors2.similar_by_word('Down with Disease')"
   ]
  },
  {
   "cell_type": "code",
   "execution_count": 113,
   "metadata": {},
   "outputs": [
    {
     "data": {
      "text/plain": [
       "[('Poor Heart', 0.317047655582428),\n",
       " ('Uncle Pen', 0.2820151746273041),\n",
       " ('Mound', 0.2670758366584778),\n",
       " ('The Curtain', 0.24428391456604004),\n",
       " ('My Sweet One', 0.2411535084247589),\n",
       " ('Nellie Kane', 0.23530861735343933),\n",
       " ('Rift', 0.22359289228916168),\n",
       " (\"It's Ice\", 0.2209681272506714),\n",
       " ('Llama', 0.21019810438156128),\n",
       " ('Runaway Jim', 0.20059916377067566)]"
      ]
     },
     "execution_count": 113,
     "metadata": {},
     "output_type": "execute_result"
    }
   ],
   "source": [
    "word_vectors2.similar_by_word('Sparkle')"
   ]
  },
  {
   "cell_type": "code",
   "execution_count": null,
   "metadata": {},
   "outputs": [],
   "source": []
  },
  {
   "cell_type": "code",
   "execution_count": null,
   "metadata": {},
   "outputs": [],
   "source": []
  },
  {
   "cell_type": "code",
   "execution_count": null,
   "metadata": {},
   "outputs": [],
   "source": []
  },
  {
   "cell_type": "code",
   "execution_count": null,
   "metadata": {},
   "outputs": [],
   "source": []
  },
  {
   "cell_type": "code",
   "execution_count": 165,
   "metadata": {},
   "outputs": [
    {
     "data": {
      "text/plain": [
       "873"
      ]
     },
     "execution_count": 165,
     "metadata": {},
     "output_type": "execute_result"
    }
   ],
   "source": [
    "len(word_vectors2.vectors)"
   ]
  },
  {
   "cell_type": "code",
   "execution_count": 170,
   "metadata": {
    "collapsed": true
   },
   "outputs": [
    {
     "data": {
      "text/plain": [
       "dict_keys(['<ENCORE>', \"I Didn't Know\", 'David Bowie', '<SET1>', 'The Curtain', 'Runaway Jim', 'The Sloth', 'Reba', 'Poor Heart', 'Llama', 'Guelah Papyrus', 'The Oh Kee Pa Ceremony', 'Suzy Greenberg', 'Tweezer', 'Tweezer Reprise', '<SET2>', 'Chalk Dust Torture', 'Bathtub Gin', 'Uncle Pen', 'The Landlady', 'Destiny Unbound', 'The Squirming Coil', 'Stash', 'My Sweet One', 'The Lizards', 'Highway to Hell', 'Lawn Boy', 'Rocky Top', 'Sweet Adeline', 'Cavern', 'Buried Alive', \"Mike's Song\", 'I Am Hydrogen', 'Weekapaug Groove', 'Tela', 'Dinner and a Movie', '<UNK>', 'Divided Sky', 'Big Black Furry Creature from Mars', \"Take the 'A' Train\", 'Possum', 'Fluffhead', 'Foam', 'You Enjoy Myself', 'Split Open and Melt', 'Bouncing Around the Room', 'Harry Hood', 'Harpua', 'Donna Lee', 'Fire', 'The Asse Festival', 'Golgi Apparatus', 'The Man Who Stepped Into Yesterday', 'Avenu Malkenu', 'Wipe Out', 'Good Times Bad Times', 'Drums', \"Colonel Forbin's Ascent\", 'Fly Famous Mockingbird', 'Fee', 'Paul and Silas', 'AC/DC Bag', 'Blaze On', 'NICU', 'Golden Age', 'Ruby Waves', \"Death Don't Hurt Very Long\", 'Rift', 'Beneath a Sea of Stars Part 1', 'Waiting All Night', 'Ghost', 'Say It To Me S.A.N.T.O.S.', 'Grind', 'The Curtain With', 'Fast Enough for You', 'Camel Walk', 'Sample in a Jar', 'Pebbles and Marbles', 'The Mango Song', 'Driver', 'Mr. Completely', 'Shade', \"Most Events Aren't Planned\", 'Makisupa Policeman', 'Punch You in the Eye', \"What's the Use?\", 'Julius', \"Cathy's Clown\", 'Carini', 'The Moma Dance', 'Theme From the Bottom', 'Meat', 'Home', 'Walls of the Cave', 'Cool Amber and Mercury', 'Down with Disease', 'Scents and Subtle Sounds', 'Twist', 'Wilson', 'Scent of a Mule', 'Fuck Your Face', \"Halley's Comet\", 'A Life Beyond The Dream', 'First Tube', 'Guyute', 'Martian Monster', 'Steam', 'Crazy Sometimes', 'The Horse', 'Silent in the Morning', 'Sleep', \"Drift While You're Sleeping\", \"No Men In No Man's Land\", 'Dirt', 'Plasma', 'We Are Come to Outlive Our Brains', 'The Wedge', \"Sneakin' Sally Through the Alley\", 'Run Like an Antelope', 'More', 'Slave to the Traffic Light', 'Rock and Roll', 'Free', '555', 'Tube', 'Brian and Robert', 'Halfway to the Moon', 'Ocelot', \"Everything's Right\", 'Sand', 'Axilla', 'Mercury', 'Wading in the Velvet Sea', 'Fuego', 'Character Zero', 'Bug', 'Thread', \"Wolfman's Brother\", 'Back on the Train', 'Mound', 'About to Run', 'Simple', 'Backwards Down the Number Line', '46 Days', 'Also Sprach Zarathustra', 'Rise/Come Together', 'Energy', 'Maze', 'Lengthwise', 'Petrichor', 'Things People Do', 'Soul Planet', 'Wider', 'Bold As Love', 'Quinn the Eskimo', 'Roggae', 'Loving Cup', 'On Your Way Down', 'Piper', 'Frankenstein', 'Waste', 'While My Guitar Gently Weeps', 'Farmhouse', 'Dogs Stole Things', 'Heavy Things', 'Horn', 'Funky Bitch', \"Messin' with The Kid\", 'Vultures', 'Jesus Just Left Chicago', 'Limb By Limb', 'Ya Mar', 'My Soul', 'Frankie Says', 'When the Circus Comes', 'Gotta Jibboo', 'Boogie On Reggae Woman', 'McGrupp and the Watchful Hosemasters', 'Prince Caspian', 'Meatstick', \"We're Not Gonna Take It\", 'Sparkle', 'Jam', 'Train Song', 'Contact', 'Misty Mountain Hop', 'Esther', 'Hold Your Head Up', 'If I Only Had a Brain', 'Carolina', \"Don't Get Me Wrong\", 'Magilla', 'La Grange', 'Terrapin', 'Gumbo', 'Bike', 'Dog Faced Boy', 'Beauty of My Dreams', \"I'm Blue, I'm Lonesome\", 'Hold Whatcha Got', 'Free Bird', 'Cars Trucks Buses', 'Strange Design', 'Birds of a Feather', 'The Inlaw Josie Wales', 'The Old Home Place', 'Water in the Sky', 'Taste', 'If I Could', 'Albuquerque', 'California Love Jam', \"My Mind's Got a Mind of its Own\", 'Drowned', 'Sea and Sand', 'Sexual Healing', 'Bittersweet Motel', 'She Caught the Katy and Left Me a Mule to Ride', 'Sleeping Monkey', 'The Vibration of Life', 'Kung', 'Catapult', 'Amazing Grace', \"We're an American Band\", 'Timber (Jerry The Mule)', 'Billy Breathes', 'Ginseng Sullivan', 'Swept Away', 'Steep', 'Hello My Baby', 'Johnny B. Goode', 'A Day in the Life', 'The Star Spangled Banner', \"It's Ice\", 'Midnight on the Highway', 'All Things Reconsidered', 'My Friend, My Friend', 'Sweet Emotion Jam', 'Big Ball Jam', \"Cracklin' Rosie\", 'Foreplay/Long Time', \"Why Don't We Do It in the Road?\", 'Chalk Dust Torture Reprise', 'Axilla (Part II)', 'Love You', 'Digital Delay Loop Jam', 'My Long Journey Home', 'Purple Rain', 'Glide', 'Peaches en Regalia', 'Buffalo Bill', 'Yerushalayim Shel Zahav', '<SET3>', 'Auld Lang Syne', \"Don't You Want To Go?\", 'Ha Ha Ha', 'Leprechaun', 'Lifeboy', 'Faht', 'Walk Away', 'Daniel Saw the Stone', 'Nellie Kane', 'Brother', 'Light', 'A Song I Heard the Ocean Sing', 'Ass Handed', 'I Always Wanted It This Way', 'Joy', 'Set Your Soul Free', 'Undermind', 'Party Time', 'Infinite', 'The Birds', 'Stealing Time From the Faulty Plan', 'Wombat', 'Crosseyed and Painless', 'Waves', 'Miss You', 'Pigtail', 'Caravan', 'Touch Me', 'Alumni Blues Jam', 'Back in the U.S.S.R.', 'Cold as Ice', 'Mind Left Body Jam', 'Manteca', 'Manteca Reprise', 'Eliza', 'Weigh', 'Lively Up Yourself', 'Sanity', 'Secret Language Instructions', '<ENCORE2>', 'Low Rider', 'The Ballad of Curtis Loew', 'Been Caught Stealing', 'I Get a Kick Out of You', 'If You Need a Fool', 'Something', 'So Lonely', 'Back at the Chicken Shack', 'Love Me', 'Cities', 'Whipping Post', 'Communication Breakdown', 'Alumni Blues', 'Letter to Jimmy Page', 'Happy Birthday to You', 'Nothing', 'Crowd Control', '99 Problems', \"Big Pimpin'\", \"Bill Bailey, Won't You Please Come Home?\", 'Seven Below', 'Army of One', 'Roses Are Free', 'Anything But Me', 'Access Me', 'Friday', 'Sing Monica', 'Mexican Cousin', 'Sugar Shack', 'The Line', 'Kill Devil Falls', 'Dem Bones', 'The Dogs', 'Yarmouth Road', 'Wingsuit', 'Twenty Years Later', 'Winterqueen', 'Devotion To a Dream', 'How Many People Are You', 'The Practical Song', 'Immigrant Song', 'Crimes of the Mind', 'Setting Sail', 'NO2', 'Acoustic Army', 'Three Little Birds', \"Spock's Brain\", 'Talk', 'Life on Mars?', 'Demand', 'Meat Reprise', 'Somewhere Over the Rainbow', 'Theme from Star Trek', 'Self', \"Bitchin' Again\", 'Memories', 'Rock A William', 'Dog Log', 'Gypsy Queen', 'Cinnamon Girl', 'I Told You So', 'Love Me Like a Man', \"Olivia's Pool\", 'Stand!', 'The Chase', 'Whole Lotta Love Jam', 'Time Turns Elastic', \"Oh! Sweet Nuthin'\", 'Let Me Lie', 'Middle of the Road', 'Alaska', 'Windy City', 'How High the Moon', 'Psycho Killer', 'Icculus', 'Beauty of a Broken Heart', 'Saw It Again', 'When the Cactus is in Bloom', 'Mustang Sally', 'Bobby Jean', 'Glory Days', 'Mellow Mood', 'Cool It Down', \"Everybody's Got Something to Hide Except Me and My Monkey\", 'Walk This Way', \"Rapper's Delight\", 'You Shook Me All Night Long', 'Walfredo', 'Emotional Rescue', 'Guy Forget', '<SET4>', 'Storage Jam', 'Soul Shakedown Party', 'Time Loves a Hero', 'Big Balls', 'No Quarter', 'Show of Life', '50 Ways to Leave Your Lover', 'My Life As a Pez', \"I Wan'na Be Like You\", 'The Great Gig in the Sky', 'Band/Crew Football Theme Song', 'Who Do? We Do!', 'Bundle of Joy', 'Swing Low, Sweet Chariot', \"Come on Baby Let's Go Downtown\", 'El Paso', 'West L.A. Fadeaway', 'Round Room', 'Thunderhead', 'All of These Dreams', 'Mountains in the Mist', 'Metal Bagel Death', 'The Fog That Surrounds', 'Keyboard Army', 'Suspicious Minds', 'Crossroads', 'Clod', 'Undun', 'In a Hole', 'Sleep Again', 'Two Versions of Me', \"Tomorrow's Song\", 'I Been Around', \"Summer of '89\", 'My Problem Right There', 'Torn and Frayed', 'Have Mercy', 'No Good Trying', 'What Things Seem', 'Roll Like a Cantaloupe', 'Rhombus Narration', 'Speak to Me', 'Breathe', 'On The Run', 'Time', 'Money', 'Us and Them', 'Any Colour You Like', 'Brain Damage', 'Eclipse', 'Smells Like Teen Spirit', 'Fikus', 'Ride Captain Ride', 'Mr. P.C.', 'Burn That Bridge', 'Gone', 'After Midnight', 'Flatbed Truck Jam', 'Rocket Man', 'Instant Karma!', 'Babylon Baby', 'Space Oddity', 'Breath and Burning', 'Discern', 'Fooled Around and Fell in Love', 'Lonesome Cowboy Bill', \"You Ain't Goin' Nowhere\", 'Piano Duet', 'High-Heel Sneakers', 'Who By Fire', 'Jump Monk', 'The Tears of a Clown', 'Cool Jerk', 'The Dickie Scotland Song', 'Halfway Home', 'Play by Play', 'Turtle in the Clouds', 'The Final Hurrah', 'Strawberry Letter 23', 'Killing in the Name', 'Light Up Or Leave Me Alone', 'Shine a Light', 'Take Me to the River', 'Bye Bye Foot', 'Why You Been Gone So Long?', 'Tennessee Waltz', 'I Been to Georgia on a Fast Train', 'Ob-La-Di, Ob-La-Da Jam', \"That's Alright Mama\", 'Satin Doll', 'Jessica Jam', 'Amazing Grace Jam', 'Vacuum Solo', 'Glide Reprise', 'Earache My Eye', 'Costume Contest', 'Wait', 'Corinna', 'Sweet Virginia', 'The Birdwatcher', 'Sweet Jane', 'Let It Loose', 'Skin It Back', 'Happiness Is a Warm Gun', \"Nothin' But A Nothin'\", \"Cryin'\", 'White Rabbit Jam', 'Night Moves Jam', 'Lit O Bit', 'Dr. Gabel', 'The Rover', 'Free Man in Paris', 'Billie Jean Jam', 'Your Pet Cat', 'Everything is Hollow', 'Passing Through', 'Friend', 'I Walk the Line', \"Dave's Energy Guide\", 'All Blues', 'Shafty', 'Taste That Surrounds', 'The Real Me', 'Shine', 'Susskind Hotel', 'Sparks', 'Sabotage', 'Windora Bug', 'Roadrunner', \"Let's Go\", 'Woodstock', 'Mozambique', 'Will It Go Round in Circles', 'Rocky Mountain Way Jam', 'Izabella', 'Blister in the Sun Jam', 'The Connection', 'Dixie Cannonball', 'Blue Moon', 'Look Out Cleveland', \"Fixin' to Die\", 'The Prison Joke', 'Keeping It Real', 'Waking Up Dead', 'Tide Turns', 'You Sexy Thing', 'You Sexy Thing Reprise', 'Architect', 'Say Something', 'Once in a Lifetime', 'United We Stand', \"Can't Always Listen\", 'Baby Lemonade', 'Spooky Jam', 'You Gotta See Mama Every Night', 'Rocket in My Pocket', 'Long Cool Woman in a Black Dress', 'L.A. Woman', 'P-Funk Medley', 'Jungle Boogie', 'Iron Man', 'Flat Fee', 'No Dogs Allowed', 'Big Leg Emma', 'Dear Mrs. Reagan', 'Cold Rain and Snow', 'Viola Lee Blues', 'Down with Disease Jam', 'Cry Baby Cry', 'Minute by Minute', \"Goin' Down Slow\", 'Dahlia', \"Revolution's Over\", 'Glide II', \"I'll Come Running\", 'Gloria', 'The Gambler', 'Blue Bayou', 'Big Black Furry Creature from Mars Jam', 'Beaumont Rag', 'The Maker', 'Golden Lady', 'Night Nurse', 'Llama Reprise', 'Whole Lotta Love', 'Heartbreaker', 'Ramble On', 'Thank You', 'Stairway to Heaven', 'Lushington', 'Shaggy Dog', 'Phase Dance', 'I Know a Little', 'The Very Long Fuse', 'I Kissed a Girl', 'Frost', 'Jennifer Dances', 'Rocks Off', 'Rip This Joint', 'Shake Your Hips', 'Casino Boogie', 'Tumbling Dice', 'Sweet Black Angel', 'Happy', 'Turd on the Run', 'Ventilator Blues', 'I Just Want To See His Face', 'All Down the Line', 'Stop Breaking Down', 'Soul Survivor', 'Invisible', 'Secret Smile', 'Heavy Rotation', 'Scabbard', 'Killer Joe', 'Rock and Roll Part Two', 'Samson Variation', 'Hoochie Coochie Man', \"Ain't Love Funny\", 'Rotation Jam', 'Amoreena', 'Sixteen Candles', 'Champagne Supernova', 'Bohemian Rhapsody', 'Black-Eyed Katy', 'Moby Dick', \"Tuesday's Gone\", 'Born to Run', 'On My Knees', 'Smoke on the Water Jam', 'Gold Soundz', 'My Left Toe', 'Samson and Delilah', 'Playing in the Band', 'Running Out of Time', 'Melt the Guns', 'Anarchy', 'Come On (Part One)', 'Come Together', 'Them Changes', 'Terrapin Station', 'Trench Town Rock', 'Burning Down the House', 'Ambient Jam', 'Hold Your Head Up Jam', 'T.V. Show', 'Family Picture', 'Wildwood Weed', \"I Want To Be a Cowboy's Sweetheart\", 'Intro', 'The Haunted House', 'Timber', 'Shipwreck', 'The Unsafe Bridge', 'The Chinese Water Torture', 'Is This What You Wanted', 'Help Me', 'Honky Tonk Women Jam', 'Cold Water', 'Idea', \"Mo' Better Blues\", 'Black and Tan Fantasy', 'Little Tiny Butter Biscuits', 'Dooley', 'Blackbird', 'Buried Alive Reprise', 'Feel the Heat', 'Girls Girls Girls', 'The Little Drummer Boy', 'Cecilia', 'Wormtown Jam', 'Rock and Roll All Nite Jam', 'Pig in a Pen', 'Cannonball Jam', 'I Am the Walrus', 'Friends', 'Baby Elephant Walk', 'Garden Party', 'Fly Like an Eagle', 'Moose the Mooche', 'Art Jam', 'Stray Dog', 'The Lion Sleeps Tonight', 'Everyday I Have the Blues', 'The Thrill is Gone', 'Rock Me Baby', 'All Along the Watchtower', 'When Something is Wrong with My Baby', 'Born Under Punches (The Heat Goes On)', 'The Great Curve', 'Houses in Motion', 'Seen and Not Seen', 'Listening Wind', 'The Overload', 'Oye Como Va Jam', 'In The Good Old Summer Time', 'Leaves', 'Love Is What We Are', 'Corona', 'Tuesday', 'The Way It Goes', \"Roll in My Sweet Baby's Arms\", \"Runnin' with the Devil\", 'Five Years', 'Soul Love', 'Moonage Daydream', 'Starman', \"It Ain't Easy\", 'Lady Stardust', 'Star', 'Hang On to Yourself', 'Ziggy Stardust', 'Suffragette City', \"Rock 'n' Roll Suicide\", 'The Happy Whip and Dung Song', 'Poor Heart Reprise', 'Wind Beneath My Wings', 'Heart and Soul', 'Mallory', 'She Thinks I Still Care', 'Maiden Voyage', 'Foggy Mountain Breakdown', 'Blister in the Sun', 'O Mio Babbino Caro', 'Big Black Furry Creature from Mars Reprise', 'Midnight Rider Jam', 'Tubthumping', 'Mirror in the Bathroom', 'Weekapaug Groove Reprise', 'All the Pain Through the Years', 'Layla', 'Who Knows Jam', 'Who Loves the Sun?', 'Spanish Moon', 'Diamond Girl', 'Immigrant Song Jam', 'Brown Eyed Girl', \"I'm So Tired\", 'Clone', 'Drifting', 'Blue Skies', 'Final Flight', 'Proud Mary', 'Spices', 'On the Road Again', 'Legalize It', \"Takin' Care of Business\", 'Marissa', 'Shake Your Coconuts', \"Gettin' Jiggy Wit' It\", 'Lawn Boy Reprise', 'Fat Man in the Bathtub', 'All That You Dream', 'Oh Atlanta', 'Old Folks Boogie', 'Day or Night', 'Mercenary Territory', 'Dixie Chicken', 'Tripe Face Boogie', \"Willin'\", \"Don't Bogart That Joint\", 'A Apolitical Blues', \"Sailin' Shoes\", \"Feats Don't Fail Me Now\", 'Mock Song', 'Drive-In Jam', 'Monkey Man', 'Spooky', 'The Ocean', 'Dear Prudence', 'I Found a Reason', \"The Fishin' Hole\", 'Green Onions', \"I'm Gonna Be (500 Miles)\", 'New York, New York', 'Che Hun Ta Mo', 'Big Alligator', 'Breathe Jam', 'In the Aeroplane Over the Sea', 'Snow', 'Amidst the Peals of Laughter', 'You Never Know', 'Split Open and Melt Jam', 'Honky Tonk Women', 'Glass Onion', 'Ob-La-Di, Ob-La-Da', 'Wild Honey Pie', 'The Continuing Story of Bungalow Bill', 'Martha My Dear', 'Piggies', 'Rocky Raccoon', \"Don't Pass Me By\", 'I Will', 'Julia', 'Birthday', 'Yer Blues', \"Mother Nature's Son\", 'Sexy Sadie', 'Helter Skelter', 'Long Long Long', 'Revolution 1', 'Honey Pie', 'Savoy Truffle', 'Revolution 9', 'Waking Up', \"I Don't Care\", 'Train Round the Bend', \"Jumpin' Jack Flash\", 'Bliss', \"Doin' My Time\", 'Meatstick Reprise', \"It's All Right\", 'Loup Garou', \"Choo Choo Ch' Boogie\", 'Pusherman Jam', 'You Better Believe It Baby', 'Rhinoceros', 'American Woman', 'Take Me Out to the Ballgame', '1999', 'Powderfinger', 'Chocolate Rain', 'The Wind Cries Mary', 'O Canada', 'Maple Leaf Rag', 'Way Down in the Hole', 'O Holy Night', 'See That My Grave Is Kept Clean', 'Everything In Its Right Place', 'Sunshine of Your Feeling', 'My Generation', 'Cocaine Jam', 'New Age', 'Head Held High', 'I Am the Sea', 'Cut My Hair', 'The Punk Meets the Godfather', \"I'm One\", 'The Dirty Jobs', 'Helpless Dancer', 'Is It In My Head?', \"I've Had Enough\", '5:15', 'Bell Boy', 'Doctor Jimmy', 'The Rock', \"Love, Reign O'er Me\", 'To France', 'Ninety-Nine Years (and One Dark Day)', 'Hold to a Dream', 'Easy To Slip', 'Chariots of Fire', 'Rhymes', 'Bring It On Home', 'Scarlet Begonias', 'Eyes of the World', 'The Other One', 'The Pendulum', 'Help on the Way', 'Slipknot!', 'Not Fade Away', 'Tell Me Something Good', 'Freeworld', 'Merry Pranksters Jam', \"Fluff's Travels\", 'Tweezer Reprise Jam', 'Coconut', 'Strawberry Fields Forever', \"Spread It 'Round\", 'Dust in the Wind', 'Icculus Reprise', 'Sightless Escape', 'Sunday Morning', 'End of Session', 'White Winter Hymnal', 'Thunder Road', 'One Meatball', 'Little Red Rooster', 'Got My Mojo Working', 'The Price of Love', 'Wild Child', 'Bertha', \"Can't You Hear Me Knocking\", 'In the Midnight Hour', 'Fire on the Mountain', 'Spanish Flea', \"Don't Want You No More\", 'Skippy the Wondermouse', 'The Last Step', 'Tower Jam'])"
      ]
     },
     "execution_count": 170,
     "metadata": {},
     "output_type": "execute_result"
    }
   ],
   "source": [
    "word_vectors2.vocab.keys()"
   ]
  },
  {
   "cell_type": "code",
   "execution_count": 205,
   "metadata": {},
   "outputs": [
    {
     "data": {
      "text/plain": [
       "['Mean Mr. Mustard', 'Quadrophenia', \"The Cover of 'Rolling Stone'\"]"
      ]
     },
     "execution_count": 205,
     "metadata": {},
     "output_type": "execute_result"
    }
   ],
   "source": [
    "[word for word in idx_to_song.values() if word not in w2v3.wv.vocab.keys()]"
   ]
  },
  {
   "cell_type": "code",
   "execution_count": null,
   "metadata": {},
   "outputs": [],
   "source": [
    "good examples: Cavern, Ghost, Waste, David Bowie, ENCORE,  Roggae, CrossEyed"
   ]
  },
  {
   "cell_type": "code",
   "execution_count": null,
   "metadata": {},
   "outputs": [],
   "source": []
  },
  {
   "cell_type": "markdown",
   "metadata": {},
   "source": [
    "### Map embeddings to correspond to indicies in idx_to_song"
   ]
  },
  {
   "cell_type": "code",
   "execution_count": 235,
   "metadata": {},
   "outputs": [
    {
     "name": "stdout",
     "output_type": "stream",
     "text": [
      "this happened: 441\n",
      "this happened: 547\n",
      "this happened: 712\n"
     ]
    },
    {
     "name": "stderr",
     "output_type": "stream",
     "text": [
      "/home/gpsnest/anaconda3/envs/phish-modeling/lib/python3.7/site-packages/ipykernel_launcher.py:7: DeprecationWarning: Call to deprecated `wv` (Attribute will be removed in 4.0.0, use self instead).\n",
      "  import sys\n"
     ]
    }
   ],
   "source": [
    "# create embedding matrix that matches the order of the dictionary idx_to_song\n",
    "\n",
    "embedding_matrix = []\n",
    "\n",
    "for i, song in enumerate(idx_to_song.values()):\n",
    "    \n",
    "    if song in w2v2.wv.vocab.keys():\n",
    "    \n",
    "        embedding_matrix.append(word_vectors2.wv[song])\n",
    "        \n",
    "        #np.append(embedding_matrix, word_vectors2.wv[song], axis=0)\n",
    "        \n",
    "    else:\n",
    "        print(f'this happened: {i}')\n",
    "        embedding_matrix.append(word_vectors2.vectors.mean(0))\n",
    "        #np.append(embedding_matrix, word_vectors2.vectors.mean(0), axis=0)\n",
    "\n",
    "embedding_matrix = np.array(embedding_matrix)"
   ]
  },
  {
   "cell_type": "code",
   "execution_count": 238,
   "metadata": {},
   "outputs": [
    {
     "data": {
      "text/plain": [
       "(876, 200)"
      ]
     },
     "execution_count": 238,
     "metadata": {},
     "output_type": "execute_result"
    }
   ],
   "source": [
    "embedding_matrix.shape"
   ]
  },
  {
   "cell_type": "code",
   "execution_count": 243,
   "metadata": {
    "scrolled": true
   },
   "outputs": [
    {
     "name": "stderr",
     "output_type": "stream",
     "text": [
      "/home/gpsnest/anaconda3/envs/phish-modeling/lib/python3.7/site-packages/ipykernel_launcher.py:2: DeprecationWarning: Call to deprecated `wv` (Attribute will be removed in 4.0.0, use self instead).\n",
      "  \n"
     ]
    },
    {
     "data": {
      "text/plain": [
       "array([ True,  True,  True,  True,  True,  True,  True,  True,  True,\n",
       "        True,  True,  True,  True,  True,  True,  True,  True,  True,\n",
       "        True,  True,  True,  True,  True,  True,  True,  True,  True,\n",
       "        True,  True,  True,  True,  True,  True,  True,  True,  True,\n",
       "        True,  True,  True,  True,  True,  True,  True,  True,  True,\n",
       "        True,  True,  True,  True,  True,  True,  True,  True,  True,\n",
       "        True,  True,  True,  True,  True,  True,  True,  True,  True,\n",
       "        True,  True,  True,  True,  True,  True,  True,  True,  True,\n",
       "        True,  True,  True,  True,  True,  True,  True,  True,  True,\n",
       "        True,  True,  True,  True,  True,  True,  True,  True,  True,\n",
       "        True,  True,  True,  True,  True,  True,  True,  True,  True,\n",
       "        True,  True,  True,  True,  True,  True,  True,  True,  True,\n",
       "        True,  True,  True,  True,  True,  True,  True,  True,  True,\n",
       "        True,  True,  True,  True,  True,  True,  True,  True,  True,\n",
       "        True,  True,  True,  True,  True,  True,  True,  True,  True,\n",
       "        True,  True,  True,  True,  True,  True,  True,  True,  True,\n",
       "        True,  True,  True,  True,  True,  True,  True,  True,  True,\n",
       "        True,  True,  True,  True,  True,  True,  True,  True,  True,\n",
       "        True,  True,  True,  True,  True,  True,  True,  True,  True,\n",
       "        True,  True,  True,  True,  True,  True,  True,  True,  True,\n",
       "        True,  True,  True,  True,  True,  True,  True,  True,  True,\n",
       "        True,  True,  True,  True,  True,  True,  True,  True,  True,\n",
       "        True,  True])"
      ]
     },
     "execution_count": 243,
     "metadata": {},
     "output_type": "execute_result"
    }
   ],
   "source": [
    "# double check\n",
    "embedding_matrix[875] == word_vectors2.wv['<UNK>']"
   ]
  },
  {
   "cell_type": "code",
   "execution_count": 244,
   "metadata": {},
   "outputs": [
    {
     "name": "stdout",
     "output_type": "stream",
     "text": [
      "Successfully pickled embedding_matrix_w2v_150seq_200vec.pkl to /home/gpsnest/Documents/andrew/phish/phish-setlist-modeling/data/reportingembedding_matrix_w2v_150seq_200vec.pkl\n"
     ]
    }
   ],
   "source": [
    "src.util.create_pickle_object(embedding_matrix, 'embedding_matrix_w2v_150seq_200vec.pkl', '../data/reporting')"
   ]
  },
  {
   "cell_type": "code",
   "execution_count": 1,
   "metadata": {},
   "outputs": [
    {
     "name": "stderr",
     "output_type": "stream",
     "text": [
      "Using TensorFlow backend.\n"
     ]
    }
   ],
   "source": [
    "%load_ext autoreload\n",
    "%autoreload 2\n",
    "\n",
    "import sys\n",
    "import os\n",
    "from gensim.models import Word2Vec\n",
    "import multiprocessing\n",
    "import numpy as np\n",
    "\n",
    "module_path = os.path.abspath(os.path.join('../'))\n",
    "if module_path not in sys.path:\n",
    "    sys.path.append(module_path)\n",
    "    \n",
    "import src"
   ]
  },
  {
   "cell_type": "code",
   "execution_count": 5,
   "metadata": {},
   "outputs": [],
   "source": [
    "embedding_matrix = src.util.load_pickle_object('../data/reportingembedding_matrix_w2v_150seq_200vec.pkl')"
   ]
  },
  {
   "cell_type": "code",
   "execution_count": 6,
   "metadata": {},
   "outputs": [
    {
     "data": {
      "text/plain": [
       "array([[ 2.5902889 , -3.3373322 ,  1.2680788 , ...,  2.9946227 ,\n",
       "        -0.45844552, -5.0386806 ],\n",
       "       [ 4.56492   , -0.47105032, -0.8135652 , ...,  3.5326807 ,\n",
       "        -2.0971334 , -3.9726813 ],\n",
       "       [ 5.390892  , -4.999931  ,  2.5811708 , ..., -4.1345797 ,\n",
       "        -1.2575505 ,  1.320166  ],\n",
       "       ...,\n",
       "       [-6.7582483 , -0.6676921 , -2.6696007 , ..., -3.6680958 ,\n",
       "         1.7675707 , -2.5061564 ],\n",
       "       [ 1.88459   , -2.9169397 ,  2.1825097 , ...,  0.06883149,\n",
       "        -1.1690352 ,  1.947107  ],\n",
       "       [ 0.44981498,  0.8838723 , -0.3986419 , ...,  1.0033479 ,\n",
       "         0.7619012 ,  0.5168487 ]], dtype=float32)"
      ]
     },
     "execution_count": 6,
     "metadata": {},
     "output_type": "execute_result"
    }
   ],
   "source": [
    "embedding_matrix"
   ]
  },
  {
   "cell_type": "code",
   "execution_count": 10,
   "metadata": {},
   "outputs": [
    {
     "data": {
      "text/plain": [
       "0.11441677554206507"
      ]
     },
     "execution_count": 10,
     "metadata": {},
     "output_type": "execute_result"
    }
   ],
   "source": [
    "(((1/876) + (1/875) + (1/874) + (1/873) + (1/872)) / 5)*100"
   ]
  },
  {
   "cell_type": "code",
   "execution_count": 11,
   "metadata": {},
   "outputs": [
    {
     "data": {
      "text/plain": [
       "0.001141552511415525"
      ]
     },
     "execution_count": 11,
     "metadata": {},
     "output_type": "execute_result"
    }
   ],
   "source": [
    "(1/876)"
   ]
  },
  {
   "cell_type": "code",
   "execution_count": null,
   "metadata": {},
   "outputs": [],
   "source": []
  }
 ],
 "metadata": {
  "kernelspec": {
   "display_name": "phish-modeling",
   "language": "python",
   "name": "phish-modeling"
  },
  "language_info": {
   "codemirror_mode": {
    "name": "ipython",
    "version": 3
   },
   "file_extension": ".py",
   "mimetype": "text/x-python",
   "name": "python",
   "nbconvert_exporter": "python",
   "pygments_lexer": "ipython3",
   "version": "3.7.3"
  }
 },
 "nbformat": 4,
 "nbformat_minor": 2
}
